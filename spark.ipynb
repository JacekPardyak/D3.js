{
  "nbformat": 4,
  "nbformat_minor": 0,
  "metadata": {
    "colab": {
      "provenance": [],
      "authorship_tag": "ABX9TyNn3F3yL0V4HLH0c+6uDz2U",
      "include_colab_link": true
    },
    "kernelspec": {
      "name": "python3",
      "display_name": "Python 3"
    },
    "language_info": {
      "name": "python"
    }
  },
  "cells": [
    {
      "cell_type": "markdown",
      "metadata": {
        "id": "view-in-github",
        "colab_type": "text"
      },
      "source": [
        "<a href=\"https://colab.research.google.com/github/JacekPardyak/bn/blob/main/spark.ipynb\" target=\"_parent\"><img src=\"https://colab.research.google.com/assets/colab-badge.svg\" alt=\"Open In Colab\"/></a>"
      ]
    },
    {
      "cell_type": "code",
      "source": [
        "! pip install pyspark"
      ],
      "metadata": {
        "colab": {
          "base_uri": "https://localhost:8080/"
        },
        "id": "S9LzUNujkQsV",
        "outputId": "08f56cb2-2902-45d8-e7c4-b7c34cc1f38c"
      },
      "execution_count": 2,
      "outputs": [
        {
          "output_type": "stream",
          "name": "stdout",
          "text": [
            "Collecting pyspark\n",
            "  Downloading pyspark-3.5.1.tar.gz (317.0 MB)\n",
            "\u001b[2K     \u001b[90m━━━━━━━━━━━━━━━━━━━━━━━━━━━━━━━━━━━━━━━━\u001b[0m \u001b[32m317.0/317.0 MB\u001b[0m \u001b[31m4.8 MB/s\u001b[0m eta \u001b[36m0:00:00\u001b[0m\n",
            "\u001b[?25h  Preparing metadata (setup.py) ... \u001b[?25l\u001b[?25hdone\n",
            "Requirement already satisfied: py4j==0.10.9.7 in /usr/local/lib/python3.10/dist-packages (from pyspark) (0.10.9.7)\n",
            "Building wheels for collected packages: pyspark\n",
            "  Building wheel for pyspark (setup.py) ... \u001b[?25l\u001b[?25hdone\n",
            "  Created wheel for pyspark: filename=pyspark-3.5.1-py2.py3-none-any.whl size=317488490 sha256=f6308d6c7d97140512f06d0b37cb34de78218523dba41ea377cbb9204e195a10\n",
            "  Stored in directory: /root/.cache/pip/wheels/80/1d/60/2c256ed38dddce2fdd93be545214a63e02fbd8d74fb0b7f3a6\n",
            "Successfully built pyspark\n",
            "Installing collected packages: pyspark\n",
            "Successfully installed pyspark-3.5.1\n"
          ]
        }
      ]
    },
    {
      "cell_type": "code",
      "execution_count": 5,
      "metadata": {
        "id": "_YfTyhANiw-f"
      },
      "outputs": [],
      "source": [
        "from pyspark.sql import SparkSession\n",
        "\n",
        "spark = SparkSession.builder.appName(\"demo\").getOrCreate()"
      ]
    },
    {
      "cell_type": "code",
      "source": [
        "spark"
      ],
      "metadata": {
        "colab": {
          "base_uri": "https://localhost:8080/",
          "height": 219
        },
        "id": "h5oUlM6bkkTo",
        "outputId": "39fb8a4e-de22-4361-e44f-8aeaeb01d17d"
      },
      "execution_count": 6,
      "outputs": [
        {
          "output_type": "execute_result",
          "data": {
            "text/plain": [
              "<pyspark.sql.session.SparkSession at 0x78a367dce920>"
            ],
            "text/html": [
              "\n",
              "            <div>\n",
              "                <p><b>SparkSession - in-memory</b></p>\n",
              "                \n",
              "        <div>\n",
              "            <p><b>SparkContext</b></p>\n",
              "\n",
              "            <p><a href=\"http://cbc9e17ffef6:4040\">Spark UI</a></p>\n",
              "\n",
              "            <dl>\n",
              "              <dt>Version</dt>\n",
              "                <dd><code>v3.5.1</code></dd>\n",
              "              <dt>Master</dt>\n",
              "                <dd><code>local[*]</code></dd>\n",
              "              <dt>AppName</dt>\n",
              "                <dd><code>demo</code></dd>\n",
              "            </dl>\n",
              "        </div>\n",
              "        \n",
              "            </div>\n",
              "        "
            ]
          },
          "metadata": {},
          "execution_count": 6
        }
      ]
    },
    {
      "cell_type": "code",
      "source": [
        "df = spark.createDataFrame(\n",
        "    [\n",
        "        (\"sue\", 32),\n",
        "        (\"li\", 3),\n",
        "        (\"bob\", 75),\n",
        "        (\"heo\", 13),\n",
        "    ],\n",
        "    [\"first_name\", \"age\"],\n",
        ")\n",
        "df.show()"
      ],
      "metadata": {
        "colab": {
          "base_uri": "https://localhost:8080/"
        },
        "id": "2yJgpFgi8lHR",
        "outputId": "0b15da64-bf30-4215-d122-a724ab51ef96"
      },
      "execution_count": 7,
      "outputs": [
        {
          "output_type": "stream",
          "name": "stdout",
          "text": [
            "+----------+---+\n",
            "|first_name|age|\n",
            "+----------+---+\n",
            "|       sue| 32|\n",
            "|        li|  3|\n",
            "|       bob| 75|\n",
            "|       heo| 13|\n",
            "+----------+---+\n",
            "\n"
          ]
        }
      ]
    },
    {
      "cell_type": "code",
      "source": [
        "from pyspark.sql.functions import col, when, avg\n",
        "\n",
        "df = df.withColumn(\n",
        "    \"life_stage\",\n",
        "    when(col(\"age\") < 13, \"child\")\n",
        "    .when(col(\"age\").between(13, 19), \"teenager\")\n",
        "    .otherwise(\"adult\"),\n",
        ")\n",
        "df.show()"
      ],
      "metadata": {
        "colab": {
          "base_uri": "https://localhost:8080/"
        },
        "id": "0JBWt_Il84eA",
        "outputId": "9c2710ad-c3a1-4177-8b75-20ba06303d86"
      },
      "execution_count": 16,
      "outputs": [
        {
          "output_type": "stream",
          "name": "stdout",
          "text": [
            "+----------+---+----------+\n",
            "|first_name|age|life_stage|\n",
            "+----------+---+----------+\n",
            "|       sue| 32|     adult|\n",
            "|        li|  3|     child|\n",
            "|       bob| 75|     adult|\n",
            "|       heo| 13|  teenager|\n",
            "+----------+---+----------+\n",
            "\n"
          ]
        }
      ]
    },
    {
      "cell_type": "code",
      "source": [
        "df.where(col(\"life_stage\").isin([\"teenager\", \"adult\"])).show()"
      ],
      "metadata": {
        "colab": {
          "base_uri": "https://localhost:8080/"
        },
        "id": "zr8w0W789e_i",
        "outputId": "74abf4a7-e3bc-4061-874b-522d0f96df1c"
      },
      "execution_count": 17,
      "outputs": [
        {
          "output_type": "stream",
          "name": "stdout",
          "text": [
            "+----------+---+----------+\n",
            "|first_name|age|life_stage|\n",
            "+----------+---+----------+\n",
            "|       sue| 32|     adult|\n",
            "|       bob| 75|     adult|\n",
            "|       heo| 13|  teenager|\n",
            "+----------+---+----------+\n",
            "\n"
          ]
        }
      ]
    },
    {
      "cell_type": "code",
      "source": [
        "df.select(avg(\"age\")).show()"
      ],
      "metadata": {
        "colab": {
          "base_uri": "https://localhost:8080/"
        },
        "id": "xMIjIdkC9tVI",
        "outputId": "40343586-f415-4804-e61f-583d35dce7ce"
      },
      "execution_count": 18,
      "outputs": [
        {
          "output_type": "stream",
          "name": "stdout",
          "text": [
            "+--------+\n",
            "|avg(age)|\n",
            "+--------+\n",
            "|   30.75|\n",
            "+--------+\n",
            "\n"
          ]
        }
      ]
    },
    {
      "cell_type": "code",
      "source": [
        "df.groupBy(\"life_stage\").avg().show()"
      ],
      "metadata": {
        "colab": {
          "base_uri": "https://localhost:8080/"
        },
        "id": "i3R5BOgI9sfX",
        "outputId": "335e5241-fa84-485c-de05-cb898ce91866"
      },
      "execution_count": 20,
      "outputs": [
        {
          "output_type": "stream",
          "name": "stdout",
          "text": [
            "+----------+--------+\n",
            "|life_stage|avg(age)|\n",
            "+----------+--------+\n",
            "|     adult|    53.5|\n",
            "|     child|     3.0|\n",
            "|  teenager|    13.0|\n",
            "+----------+--------+\n",
            "\n"
          ]
        }
      ]
    },
    {
      "cell_type": "code",
      "source": [
        "df.groupBy(\"life_stage\").agg(avg(\"age\").alias(\"Average_age\")).show()"
      ],
      "metadata": {
        "colab": {
          "base_uri": "https://localhost:8080/"
        },
        "id": "QFXfIWjG9ua_",
        "outputId": "baa71dad-3dfb-4d10-b7df-2770da81cdbe"
      },
      "execution_count": 21,
      "outputs": [
        {
          "output_type": "stream",
          "name": "stdout",
          "text": [
            "+----------+-----------+\n",
            "|life_stage|Average_age|\n",
            "+----------+-----------+\n",
            "|     adult|       53.5|\n",
            "|     child|        3.0|\n",
            "|  teenager|       13.0|\n",
            "+----------+-----------+\n",
            "\n"
          ]
        }
      ]
    },
    {
      "cell_type": "code",
      "source": [
        "spark.sql(\"select avg(age) from {tbl}\", tbl = df).show()"
      ],
      "metadata": {
        "colab": {
          "base_uri": "https://localhost:8080/"
        },
        "id": "ILB9NULq-xcA",
        "outputId": "f1c403e0-2c97-4d89-b13a-f529e26cea00"
      },
      "execution_count": 22,
      "outputs": [
        {
          "output_type": "stream",
          "name": "stdout",
          "text": [
            "+--------+\n",
            "|avg(age)|\n",
            "+--------+\n",
            "|   30.75|\n",
            "+--------+\n",
            "\n"
          ]
        }
      ]
    },
    {
      "cell_type": "code",
      "source": [
        "spark.sql(\"select life_stage, avg(age) from {tbl} group by life_stage\", tbl = df).show()"
      ],
      "metadata": {
        "colab": {
          "base_uri": "https://localhost:8080/"
        },
        "id": "vyuLm4oa_UwI",
        "outputId": "b13d237c-a3e7-496a-8e6d-61207816034a"
      },
      "execution_count": 23,
      "outputs": [
        {
          "output_type": "stream",
          "name": "stdout",
          "text": [
            "+----------+--------+\n",
            "|life_stage|avg(age)|\n",
            "+----------+--------+\n",
            "|     adult|    53.5|\n",
            "|     child|     3.0|\n",
            "|  teenager|    13.0|\n",
            "+----------+--------+\n",
            "\n"
          ]
        }
      ]
    },
    {
      "cell_type": "code",
      "source": [
        "df.write.saveAsTable(\"some_people\")"
      ],
      "metadata": {
        "id": "uAPEIPaC_mCt"
      },
      "execution_count": 24,
      "outputs": []
    },
    {
      "cell_type": "code",
      "source": [
        "spark.sql(\"select * from some_people\").show()"
      ],
      "metadata": {
        "colab": {
          "base_uri": "https://localhost:8080/"
        },
        "id": "_2ArTb6J_rY8",
        "outputId": "30e140f8-c530-4790-e3d2-036d2d4a0043"
      },
      "execution_count": 25,
      "outputs": [
        {
          "output_type": "stream",
          "name": "stdout",
          "text": [
            "+----------+---+----------+\n",
            "|first_name|age|life_stage|\n",
            "+----------+---+----------+\n",
            "|       bob| 75|     adult|\n",
            "|       heo| 13|  teenager|\n",
            "|       sue| 32|     adult|\n",
            "|        li|  3|     child|\n",
            "+----------+---+----------+\n",
            "\n"
          ]
        }
      ]
    },
    {
      "cell_type": "code",
      "source": [
        "spark.sql(\"INSERT INTO some_people VALUES ('frank', 4, 'child')\")"
      ],
      "metadata": {
        "colab": {
          "base_uri": "https://localhost:8080/"
        },
        "id": "jn6svwUy_2qB",
        "outputId": "062b871f-73af-46c7-e47f-9455dba93ea8"
      },
      "execution_count": 26,
      "outputs": [
        {
          "output_type": "execute_result",
          "data": {
            "text/plain": [
              "DataFrame[]"
            ]
          },
          "metadata": {},
          "execution_count": 26
        }
      ]
    },
    {
      "cell_type": "code",
      "source": [
        "spark.sql(\"select * from some_people\").show()"
      ],
      "metadata": {
        "colab": {
          "base_uri": "https://localhost:8080/"
        },
        "id": "DgjD-e_P_7_T",
        "outputId": "e430edce-061a-49a2-8738-096f47c30c24"
      },
      "execution_count": 27,
      "outputs": [
        {
          "output_type": "stream",
          "name": "stdout",
          "text": [
            "+----------+---+----------+\n",
            "|first_name|age|life_stage|\n",
            "+----------+---+----------+\n",
            "|       bob| 75|     adult|\n",
            "|       heo| 13|  teenager|\n",
            "|     frank|  4|     child|\n",
            "|       sue| 32|     adult|\n",
            "|        li|  3|     child|\n",
            "+----------+---+----------+\n",
            "\n"
          ]
        }
      ]
    },
    {
      "cell_type": "code",
      "source": [
        "spark.sql(\"select * from some_people where life_stage='teenager'\").show()"
      ],
      "metadata": {
        "colab": {
          "base_uri": "https://localhost:8080/"
        },
        "id": "NBmvfEVsADcV",
        "outputId": "2318427a-42c9-46dd-ddbb-c081d5026504"
      },
      "execution_count": 28,
      "outputs": [
        {
          "output_type": "stream",
          "name": "stdout",
          "text": [
            "+----------+---+----------+\n",
            "|first_name|age|life_stage|\n",
            "+----------+---+----------+\n",
            "|       heo| 13|  teenager|\n",
            "+----------+---+----------+\n",
            "\n"
          ]
        }
      ]
    },
    {
      "cell_type": "markdown",
      "source": [
        "Kafka example wont work here, but is here https://spark.apache.org/examples.html"
      ],
      "metadata": {
        "id": "A9mbhUbxB7Ni"
      }
    },
    {
      "cell_type": "code",
      "source": [
        "my_string = \"\"\"these are words\n",
        "these are more words\n",
        "words in english\n",
        "\"\"\"\n",
        "# Open a file in write mode\n",
        "with open(\"some_words.txt\", \"w\") as file:\n",
        "    # Write the string to the file\n",
        "    file.write(my_string)"
      ],
      "metadata": {
        "id": "qWFtPrwNAdXE"
      },
      "execution_count": 33,
      "outputs": []
    },
    {
      "cell_type": "code",
      "source": [
        "text_file = spark.sparkContext.textFile(\"some_words.txt\")\n",
        "\n",
        "counts = (\n",
        "    text_file.flatMap(lambda line: line.split(\" \"))\n",
        "    .map(lambda word: (word, 1))\n",
        "    .reduceByKey(lambda a, b: a + b)\n",
        ")\n",
        "counts.collect()"
      ],
      "metadata": {
        "colab": {
          "base_uri": "https://localhost:8080/"
        },
        "id": "Zpmwh147CwKS",
        "outputId": "a845373a-1ba3-4f59-b70c-d8f43cb172ee"
      },
      "execution_count": 35,
      "outputs": [
        {
          "output_type": "execute_result",
          "data": {
            "text/plain": [
              "[('these', 2),\n",
              " ('are', 2),\n",
              " ('more', 1),\n",
              " ('in', 1),\n",
              " ('words', 3),\n",
              " ('english', 1)]"
            ]
          },
          "metadata": {},
          "execution_count": 35
        }
      ]
    },
    {
      "cell_type": "code",
      "source": [
        "my_string = \"\"\"def greet(name):\n",
        "    print(f\"Hello, {name}!\")\n",
        "\n",
        "if __name__ == \"__main__\":\n",
        "    # This block will only execute if the script is run directly\n",
        "    greet(\"World\")\n",
        "    \"\"\"\n",
        "# Open a file in write mode\n",
        "with open(\"greet.py\", \"w\") as file:\n",
        "    # Write the string to the file\n",
        "    file.write(my_string)"
      ],
      "metadata": {
        "id": "UHCJKElsFIAe"
      },
      "execution_count": 37,
      "outputs": []
    },
    {
      "cell_type": "code",
      "source": [
        "!python greet.py"
      ],
      "metadata": {
        "colab": {
          "base_uri": "https://localhost:8080/"
        },
        "id": "zZpN04-TFRz5",
        "outputId": "f7bcab54-296f-4d79-bfeb-79e800055921"
      },
      "execution_count": 38,
      "outputs": [
        {
          "output_type": "stream",
          "name": "stdout",
          "text": [
            "Hello, World!\n"
          ]
        }
      ]
    },
    {
      "cell_type": "code",
      "source": [
        "import greet\n",
        "greet.greet(\"Alice\")"
      ],
      "metadata": {
        "colab": {
          "base_uri": "https://localhost:8080/"
        },
        "id": "_S5Cs9HeFYou",
        "outputId": "e127747b-e42f-44cb-c7f5-b4ada5c56d0c"
      },
      "execution_count": 39,
      "outputs": [
        {
          "output_type": "stream",
          "name": "stdout",
          "text": [
            "Hello, Alice!\n"
          ]
        }
      ]
    },
    {
      "cell_type": "markdown",
      "source": [
        "# KMeans"
      ],
      "metadata": {
        "id": "N5p4eRe4EI8J"
      }
    },
    {
      "cell_type": "code",
      "source": [
        "sample_kmeans_data = \"\"\"0 1:0.0 2:0.0 3:0.0\n",
        "1 1:0.1 2:0.1 3:0.1\n",
        "2 1:0.2 2:0.2 3:0.2\n",
        "3 1:9.0 2:9.0 3:9.0\n",
        "4 1:9.1 2:9.1 3:9.1\n",
        "5 1:9.2 2:9.2 3:9.2\n",
        "    \"\"\"\n",
        "# Open a file in write mode\n",
        "with open(\"sample_kmeans_data.txt\", \"w\") as file:\n",
        "    # Write the string to the file\n",
        "    file.write(sample_kmeans_data)"
      ],
      "metadata": {
        "id": "tDhD6_v3Fswi"
      },
      "execution_count": 46,
      "outputs": []
    },
    {
      "cell_type": "code",
      "source": [
        "from pyspark.ml.clustering import KMeans\n",
        "from pyspark.ml.evaluation import ClusteringEvaluator"
      ],
      "metadata": {
        "id": "vUNwS8BEEG9T"
      },
      "execution_count": 47,
      "outputs": []
    },
    {
      "cell_type": "code",
      "source": [
        "dataset = spark.read.format(\"libsvm\").load(\"sample_kmeans_data.txt\")\n",
        "dataset.show()"
      ],
      "metadata": {
        "colab": {
          "base_uri": "https://localhost:8080/"
        },
        "id": "w89wbedwER0T",
        "outputId": "6216926b-63e6-493c-da13-490e0accb6c5"
      },
      "execution_count": 50,
      "outputs": [
        {
          "output_type": "stream",
          "name": "stdout",
          "text": [
            "+-----+--------------------+\n",
            "|label|            features|\n",
            "+-----+--------------------+\n",
            "|  0.0|           (3,[],[])|\n",
            "|  1.0|(3,[0,1,2],[0.1,0...|\n",
            "|  2.0|(3,[0,1,2],[0.2,0...|\n",
            "|  3.0|(3,[0,1,2],[9.0,9...|\n",
            "|  4.0|(3,[0,1,2],[9.1,9...|\n",
            "|  5.0|(3,[0,1,2],[9.2,9...|\n",
            "+-----+--------------------+\n",
            "\n"
          ]
        }
      ]
    },
    {
      "cell_type": "code",
      "source": [
        "# Trains a k-means model.\n",
        "kmeans = KMeans().setK(2).setSeed(1)\n",
        "model = kmeans.fit(dataset)\n",
        "\n",
        "# Make predictions\n",
        "predictions = model.transform(dataset)\n",
        "\n",
        "# Evaluate clustering by computing Silhouette score\n",
        "evaluator = ClusteringEvaluator()\n",
        "\n",
        "silhouette = evaluator.evaluate(predictions)\n",
        "print(\"Silhouette with squared euclidean distance = \" + str(silhouette))\n",
        "\n",
        "# Shows the result.\n",
        "centers = model.clusterCenters()\n",
        "print(\"Cluster Centers: \")\n",
        "for center in centers:\n",
        "  print(center)"
      ],
      "metadata": {
        "colab": {
          "base_uri": "https://localhost:8080/"
        },
        "id": "gwJ-CfJAHdaB",
        "outputId": "ad19a503-29e2-4334-e804-5b42f6cb4351"
      },
      "execution_count": 51,
      "outputs": [
        {
          "output_type": "stream",
          "name": "stdout",
          "text": [
            "Silhouette with squared euclidean distance = 0.9997530305375207\n",
            "Cluster Centers: \n",
            "[9.1 9.1 9.1]\n",
            "[0.1 0.1 0.1]\n"
          ]
        }
      ]
    },
    {
      "cell_type": "markdown",
      "source": [
        "for more https://github.com/apache/spark/tree/master/examples/src/main/python/ml"
      ],
      "metadata": {
        "id": "I4fRjAZeIOqG"
      }
    },
    {
      "cell_type": "code",
      "source": [],
      "metadata": {
        "id": "GUomTpYhILpF"
      },
      "execution_count": null,
      "outputs": []
    }
  ]
}